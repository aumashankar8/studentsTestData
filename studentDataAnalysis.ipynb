{
 "cells": [
  {
   "cell_type": "markdown",
   "metadata": {},
   "source": [
    "# Student Data Analysis Notebook\n",
    "This notebook houses the relevant data exploration and analysis for this test data set.\n",
    "Found here: https://www.kaggle.com/datasets/atharvbharaskar/students-test-data/\n",
    "\n",
    "There are 2 goals\n",
    "1. Determine 3 limitations of the data and determine any ways to enhance it.\n",
    "2. Analyze a particular trend and report the findings in written and verbal format with a slide deck"
   ]
  },
  {
   "cell_type": "markdown",
   "metadata": {},
   "source": [
    "## Data Exploration\n",
    "### Import Libraries"
   ]
  },
  {
   "cell_type": "code",
   "execution_count": 8,
   "metadata": {},
   "outputs": [],
   "source": [
    "import pandas as pd # Data Manipulation\n",
    "from pathlib import Path # Path reading\n",
    "import matplotlib.pyplot as plt # Plot creation\n",
    "import numpy as np # Data Math"
   ]
  },
  {
   "cell_type": "markdown",
   "metadata": {},
   "source": [
    "### Setup for Plots"
   ]
  },
  {
   "cell_type": "code",
   "execution_count": 2,
   "metadata": {},
   "outputs": [],
   "source": [
    "import matplotlib.pyplot as plt\n",
    "# Default Plot\n",
    "plt.rc('font', size=14)\n",
    "plt.rc('axes', labelsize=14, titlesize=14)\n",
    "plt.rc('legend', fontsize=14)\n",
    "plt.rc('xtick', labelsize=10)\n",
    "plt.rc('ytick', labelsize=10)"
   ]
  },
  {
   "cell_type": "markdown",
   "metadata": {},
   "source": [
    "### Create an images folder and define a method for saving files"
   ]
  },
  {
   "cell_type": "code",
   "execution_count": 10,
   "metadata": {},
   "outputs": [],
   "source": [
    "IMAGES_PATH = Path() / \"images\" \n",
    "IMAGES_PATH.mkdir(parents=True, exist_ok=True)\n",
    "\n",
    "def save_fig(fig_id, tight_layout=True, fig_extension=\"png\", resolution=300):\n",
    "    path = IMAGES_PATH / f\"{fig_id}.{fig_extension}\"\n",
    "    if tight_layout:\n",
    "        plt.tight_layout()\n",
    "    plt.savefig(path, format=fig_extension, dpi=resolution)"
   ]
  },
  {
   "cell_type": "markdown",
   "metadata": {},
   "source": [
    "## Read the Data"
   ]
  },
  {
   "cell_type": "code",
   "execution_count": 11,
   "metadata": {},
   "outputs": [
    {
     "data": {
      "text/html": [
       "<div>\n",
       "<style scoped>\n",
       "    .dataframe tbody tr th:only-of-type {\n",
       "        vertical-align: middle;\n",
       "    }\n",
       "\n",
       "    .dataframe tbody tr th {\n",
       "        vertical-align: top;\n",
       "    }\n",
       "\n",
       "    .dataframe thead th {\n",
       "        text-align: right;\n",
       "    }\n",
       "</style>\n",
       "<table border=\"1\" class=\"dataframe\">\n",
       "  <thead>\n",
       "    <tr style=\"text-align: right;\">\n",
       "      <th></th>\n",
       "      <th>Unnamed: 0</th>\n",
       "      <th>NAME OF THE STUDENT</th>\n",
       "      <th>UNIVERSITY</th>\n",
       "      <th>PROGRAM NAME</th>\n",
       "      <th>Specialisation</th>\n",
       "      <th>SEMESTER</th>\n",
       "      <th>Domain</th>\n",
       "      <th>GENERAL MANAGEMENT SCORE (OUT of 50)</th>\n",
       "      <th>Domain Specific SCORE (OUT 50)</th>\n",
       "      <th>TOTAL SCORE (OUT of 100)</th>\n",
       "      <th>RANK</th>\n",
       "      <th>PERCENTILE</th>\n",
       "    </tr>\n",
       "  </thead>\n",
       "  <tbody>\n",
       "    <tr>\n",
       "      <th>0</th>\n",
       "      <td>0</td>\n",
       "      <td>Camila Wood</td>\n",
       "      <td>Stanford University, USA</td>\n",
       "      <td>B.Com</td>\n",
       "      <td>Honours</td>\n",
       "      <td>5th</td>\n",
       "      <td>Finance</td>\n",
       "      <td>50</td>\n",
       "      <td>50</td>\n",
       "      <td>100</td>\n",
       "      <td>1</td>\n",
       "      <td>1.000000</td>\n",
       "    </tr>\n",
       "    <tr>\n",
       "      <th>1</th>\n",
       "      <td>1</td>\n",
       "      <td>Alexander Thompson</td>\n",
       "      <td>Stanford University, USA</td>\n",
       "      <td>B.Com</td>\n",
       "      <td>Financial Services</td>\n",
       "      <td>5th</td>\n",
       "      <td>Finance</td>\n",
       "      <td>50</td>\n",
       "      <td>50</td>\n",
       "      <td>100</td>\n",
       "      <td>2</td>\n",
       "      <td>0.993377</td>\n",
       "    </tr>\n",
       "    <tr>\n",
       "      <th>2</th>\n",
       "      <td>2</td>\n",
       "      <td>Liam Taylor</td>\n",
       "      <td>Harvard University, USA</td>\n",
       "      <td>B.Com</td>\n",
       "      <td>Accounting Analytics</td>\n",
       "      <td>5th</td>\n",
       "      <td>BA</td>\n",
       "      <td>50</td>\n",
       "      <td>50</td>\n",
       "      <td>100</td>\n",
       "      <td>3</td>\n",
       "      <td>0.986755</td>\n",
       "    </tr>\n",
       "    <tr>\n",
       "      <th>3</th>\n",
       "      <td>3</td>\n",
       "      <td>Evelyn Jenkins</td>\n",
       "      <td>Stanford University, USA</td>\n",
       "      <td>B.Com</td>\n",
       "      <td>Honours</td>\n",
       "      <td>5th</td>\n",
       "      <td>Finance</td>\n",
       "      <td>49</td>\n",
       "      <td>50</td>\n",
       "      <td>99</td>\n",
       "      <td>4</td>\n",
       "      <td>0.980132</td>\n",
       "    </tr>\n",
       "    <tr>\n",
       "      <th>4</th>\n",
       "      <td>4</td>\n",
       "      <td>Michael Jackson</td>\n",
       "      <td>Harvard University, USA</td>\n",
       "      <td>MBA</td>\n",
       "      <td>International Business</td>\n",
       "      <td>3rd</td>\n",
       "      <td>IB</td>\n",
       "      <td>50</td>\n",
       "      <td>49</td>\n",
       "      <td>99</td>\n",
       "      <td>5</td>\n",
       "      <td>0.973510</td>\n",
       "    </tr>\n",
       "  </tbody>\n",
       "</table>\n",
       "</div>"
      ],
      "text/plain": [
       "   Unnamed: 0 NAME OF THE STUDENT                UNIVERSITY PROGRAM NAME   \n",
       "0           0         Camila Wood  Stanford University, USA        B.Com  \\\n",
       "1           1  Alexander Thompson  Stanford University, USA        B.Com   \n",
       "2           2         Liam Taylor   Harvard University, USA        B.Com   \n",
       "3           3      Evelyn Jenkins  Stanford University, USA        B.Com   \n",
       "4           4     Michael Jackson   Harvard University, USA          MBA   \n",
       "\n",
       "           Specialisation SEMESTER   Domain   \n",
       "0                 Honours      5th  Finance  \\\n",
       "1      Financial Services      5th  Finance   \n",
       "2    Accounting Analytics      5th       BA   \n",
       "3                 Honours      5th  Finance   \n",
       "4  International Business      3rd       IB   \n",
       "\n",
       "   GENERAL MANAGEMENT SCORE (OUT of 50)  Domain Specific SCORE (OUT 50)   \n",
       "0                                    50                              50  \\\n",
       "1                                    50                              50   \n",
       "2                                    50                              50   \n",
       "3                                    49                              50   \n",
       "4                                    50                              49   \n",
       "\n",
       "   TOTAL SCORE (OUT of 100)  RANK  PERCENTILE  \n",
       "0                       100     1    1.000000  \n",
       "1                       100     2    0.993377  \n",
       "2                       100     3    0.986755  \n",
       "3                        99     4    0.980132  \n",
       "4                        99     5    0.973510  "
      ]
     },
     "execution_count": 11,
     "metadata": {},
     "output_type": "execute_result"
    }
   ],
   "source": [
    "data_path = Path() / \"archive\" / \"Private_data.csv\"\n",
    "student_data = pd.read_csv(data_path)\n",
    "student_data.head()"
   ]
  }
 ],
 "metadata": {
  "kernelspec": {
   "display_name": "Python 3",
   "language": "python",
   "name": "python3"
  },
  "language_info": {
   "codemirror_mode": {
    "name": "ipython",
    "version": 3
   },
   "file_extension": ".py",
   "mimetype": "text/x-python",
   "name": "python",
   "nbconvert_exporter": "python",
   "pygments_lexer": "ipython3",
   "version": "3.10.12"
  }
 },
 "nbformat": 4,
 "nbformat_minor": 2
}
